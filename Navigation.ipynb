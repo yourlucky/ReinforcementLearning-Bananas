{
 "cells": [
  {
   "cell_type": "markdown",
   "metadata": {},
   "source": [
    "# Navigation\n",
    "\n",
    "---\n",
    "\n",
    "You are welcome to use this coding environment to train your agent for the project.  Follow the instructions below to get started!\n",
    "\n",
    "### 1. Start the Environment\n",
    "\n",
    "Run the next code cell to install a few packages.  This line will take a few minutes to run!"
   ]
  },
  {
   "cell_type": "code",
   "execution_count": 1,
   "metadata": {},
   "outputs": [
    {
     "name": "stdout",
     "output_type": "stream",
     "text": [
      "\u001b[31mtensorflow 1.7.1 has requirement numpy>=1.13.3, but you'll have numpy 1.12.1 which is incompatible.\u001b[0m\r\n",
      "\u001b[31mipython 6.5.0 has requirement prompt-toolkit<2.0.0,>=1.0.15, but you'll have prompt-toolkit 3.0.30 which is incompatible.\u001b[0m\r\n",
      "\u001b[31mjupyter-console 6.4.3 has requirement jupyter-client>=7.0.0, but you'll have jupyter-client 5.2.4 which is incompatible.\u001b[0m\r\n"
     ]
    }
   ],
   "source": [
    "!pip -q install ./python"
   ]
  },
  {
   "cell_type": "markdown",
   "metadata": {},
   "source": [
    "The environment is already saved in the Workspace and can be accessed at the file path provided below.  Please run the next code cell without making any changes."
   ]
  },
  {
   "cell_type": "code",
   "execution_count": 2,
   "metadata": {},
   "outputs": [
    {
     "name": "stderr",
     "output_type": "stream",
     "text": [
      "INFO:unityagents:\n",
      "'Academy' started successfully!\n",
      "Unity Academy name: Academy\n",
      "        Number of Brains: 1\n",
      "        Number of External Brains : 1\n",
      "        Lesson number : 0\n",
      "        Reset Parameters :\n",
      "\t\t\n",
      "Unity brain name: BananaBrain\n",
      "        Number of Visual Observations (per agent): 0\n",
      "        Vector Observation space type: continuous\n",
      "        Vector Observation space size (per agent): 37\n",
      "        Number of stacked Vector Observation: 1\n",
      "        Vector Action space type: discrete\n",
      "        Vector Action space size (per agent): 4\n",
      "        Vector Action descriptions: , , , \n"
     ]
    }
   ],
   "source": [
    "from unityagents import UnityEnvironment\n",
    "import numpy as np\n",
    "\n",
    "# please do not modify the line below\n",
    "env = UnityEnvironment(file_name=\"/data/Banana_Linux_NoVis/Banana.x86_64\")"
   ]
  },
  {
   "cell_type": "markdown",
   "metadata": {},
   "source": [
    "Environments contain **_brains_** which are responsible for deciding the actions of their associated agents. Here we check for the first brain available, and set it as the default brain we will be controlling from Python."
   ]
  },
  {
   "cell_type": "code",
   "execution_count": 3,
   "metadata": {},
   "outputs": [],
   "source": [
    "# get the default brain\n",
    "brain_name = env.brain_names[0]\n",
    "brain = env.brains[brain_name]"
   ]
  },
  {
   "cell_type": "markdown",
   "metadata": {},
   "source": [
    "### 2. Examine the State and Action Spaces\n",
    "\n",
    "Run the code cell below to print some information about the environment."
   ]
  },
  {
   "cell_type": "code",
   "execution_count": 4,
   "metadata": {},
   "outputs": [
    {
     "name": "stdout",
     "output_type": "stream",
     "text": [
      "Number of agents: 1\n",
      "Number of actions: 4\n",
      "States look like: [ 1.          0.          0.          0.          0.84408134  0.          0.\n",
      "  1.          0.          0.0748472   0.          1.          0.          0.\n",
      "  0.25755     1.          0.          0.          0.          0.74177343\n",
      "  0.          1.          0.          0.          0.25854847  0.          0.\n",
      "  1.          0.          0.09355672  0.          1.          0.          0.\n",
      "  0.31969345  0.          0.        ]\n",
      "States have length: 37\n"
     ]
    }
   ],
   "source": [
    "# reset the environment\n",
    "env_info = env.reset(train_mode=True)[brain_name]\n",
    "\n",
    "# number of agents in the environment\n",
    "print('Number of agents:', len(env_info.agents))\n",
    "\n",
    "# number of actions\n",
    "action_size = brain.vector_action_space_size\n",
    "print('Number of actions:', action_size)\n",
    "\n",
    "# examine the state space \n",
    "state = env_info.vector_observations[0]\n",
    "print('States look like:', state)\n",
    "state_size = len(state)\n",
    "print('States have length:', state_size)"
   ]
  },
  {
   "cell_type": "markdown",
   "metadata": {},
   "source": [
    "### 3. Take Random Actions in the Environment\n",
    "\n",
    "In the next code cell, you will learn how to use the Python API to control the agent and receive feedback from the environment.\n",
    "\n",
    "Note that **in this coding environment, you will not be able to watch the agent while it is training**, and you should set `train_mode=True` to restart the environment."
   ]
  },
  {
   "cell_type": "code",
   "execution_count": 6,
   "metadata": {},
   "outputs": [
    {
     "name": "stdout",
     "output_type": "stream",
     "text": [
      "Score: 3.0\n"
     ]
    }
   ],
   "source": [
    "env_info = env.reset(train_mode=True)[brain_name] # reset the environment\n",
    "state = env_info.vector_observations[0]            # get the current state\n",
    "score = 0                                          # initialize the score\n",
    "while True:\n",
    "    action = np.random.randint(action_size)        # select an action\n",
    "    env_info = env.step(action)[brain_name]        # send the action to the environment\n",
    "    next_state = env_info.vector_observations[0]   # get the next state\n",
    "    reward = env_info.rewards[0]                   # get the reward\n",
    "    done = env_info.local_done[0]                  # see if episode has finished\n",
    "    score += reward                                # update the score\n",
    "    state = next_state                             # roll over the state to next time step\n",
    "    if done:                                       # exit loop if episode finished\n",
    "        break\n",
    "    \n",
    "print(\"Score: {}\".format(score))"
   ]
  },
  {
   "cell_type": "markdown",
   "metadata": {},
   "source": [
    "When finished, you can close the environment."
   ]
  },
  {
   "cell_type": "code",
   "execution_count": 6,
   "metadata": {},
   "outputs": [],
   "source": [
    "#env.close()"
   ]
  },
  {
   "cell_type": "markdown",
   "metadata": {},
   "source": [
    "### 4. It's Your Turn!\n",
    "\n",
    "Now it's your turn to train your own agent to solve the environment!  A few **important notes**:\n",
    "- When training the environment, set `train_mode=True`, so that the line for resetting the environment looks like the following:\n",
    "```python\n",
    "env_info = env.reset(train_mode=True)[brain_name]\n",
    "```\n",
    "- To structure your work, you're welcome to work directly in this Jupyter notebook, or you might like to start over with a new file!  You can see the list of files in the workspace by clicking on **_Jupyter_** in the top left corner of the notebook.\n",
    "- In this coding environment, you will not be able to watch the agent while it is training.  However, **_after training the agent_**, you can download the saved model weights to watch the agent on your own machine! "
   ]
  },
  {
   "cell_type": "code",
   "execution_count": 8,
   "metadata": {},
   "outputs": [],
   "source": [
    "import random\n",
    "import torch\n",
    "import numpy as np\n",
    "from collections import deque, namedtuple\n",
    "import matplotlib.pyplot as plt\n",
    "\n",
    "import torch.nn as nn\n",
    "import torch.nn.functional as F\n",
    "import torch.optim as optim"
   ]
  },
  {
   "cell_type": "code",
   "execution_count": 9,
   "metadata": {},
   "outputs": [],
   "source": [
    "class QNetwork(nn.Module):\n",
    "    \"\"\"Actor (Policy) Model.\"\"\"\n",
    "\n",
    "    def __init__(self, state_size, action_size, seed):\n",
    "        \"\"\"Initialize parameters and build model.\n",
    "        Params\n",
    "        ======\n",
    "            state_size (int): Dimension of each state\n",
    "            action_size (int): Dimension of each action\n",
    "            seed (int): Random seed\n",
    "        \"\"\"\n",
    "        super(QNetwork, self).__init__()\n",
    "        self.seed = torch.manual_seed(seed)\n",
    "        \"*** YOUR CODE HERE ***\"\n",
    "        fc1_units =64\n",
    "        fc2_units =64\n",
    "        self.fc1=nn.Linear(state_size,fc1_units)\n",
    "        self.fc2=nn.Linear(fc1_units,fc2_units)\n",
    "        self.fc3=nn.Linear(fc2_units,action_size)\n",
    "\n",
    "    def forward(self, state):\n",
    "        \"\"\"Build a network that maps state -> action values.\"\"\"\n",
    "        x = F.relu(self.fc1(state))\n",
    "        x = F.relu(self.fc2(x))\n",
    "        return self.fc3(x)\n"
   ]
  },
  {
   "cell_type": "code",
   "execution_count": 10,
   "metadata": {},
   "outputs": [],
   "source": [
    "BUFFER_SIZE = int(1e5)  # replay buffer size\n",
    "BATCH_SIZE = 64         # minibatch size\n",
    "GAMMA = 0.99            # discount factor\n",
    "TAU = 1e-3              # for soft update of target parameters\n",
    "LR = 5e-4               # learning rate \n",
    "UPDATE_EVERY = 4        # how often to update the network\n",
    "\n",
    "device = torch.device(\"cuda:0\" if torch.cuda.is_available() else \"cpu\")"
   ]
  },
  {
   "cell_type": "code",
   "execution_count": 19,
   "metadata": {},
   "outputs": [
    {
     "name": "stdout",
     "output_type": "stream",
     "text": [
      "QNetwork(\n",
      "  (fc1): Linear(in_features=37, out_features=64, bias=True)\n",
      "  (fc2): Linear(in_features=64, out_features=64, bias=True)\n",
      "  (fc3): Linear(in_features=64, out_features=4, bias=True)\n",
      ")\n"
     ]
    }
   ],
   "source": [
    "P_seed=0\n",
    "P_model=QNetwork(state_size,action_size,P_seed)\n",
    "print(P_model)"
   ]
  },
  {
   "cell_type": "code",
   "execution_count": 11,
   "metadata": {},
   "outputs": [],
   "source": [
    "class ReplayBuffer:\n",
    "    \"\"\"Fixed-size buffer to store experience tuples.\"\"\"\n",
    "\n",
    "    def __init__(self, action_size, buffer_size, batch_size, seed):\n",
    "        \"\"\"Initialize a ReplayBuffer object.\n",
    "\n",
    "        Params\n",
    "        ======\n",
    "            action_size (int): dimension of each action\n",
    "            buffer_size (int): maximum size of buffer\n",
    "            batch_size (int): size of each training batch\n",
    "            seed (int): random seed\n",
    "        \"\"\"\n",
    "        self.action_size = action_size\n",
    "        self.memory = deque(maxlen=buffer_size)  \n",
    "        self.batch_size = batch_size\n",
    "        self.experience = namedtuple(\"Experience\", field_names=[\"state\", \"action\", \"reward\", \"next_state\", \"done\"])\n",
    "        self.seed = random.seed(seed)\n",
    "    \n",
    "    def add(self, state, action, reward, next_state, done):\n",
    "        \"\"\"Add a new experience to memory.\"\"\"\n",
    "        e = self.experience(state, action, reward, next_state, done)\n",
    "        self.memory.append(e)\n",
    "    \n",
    "    def sample(self):\n",
    "        \"\"\"Randomly sample a batch of experiences from memory.\"\"\"\n",
    "        experiences = random.sample(self.memory, k=self.batch_size)\n",
    "\n",
    "        states = torch.from_numpy(np.vstack([e.state for e in experiences if e is not None])).float().to(device)\n",
    "        actions = torch.from_numpy(np.vstack([e.action for e in experiences if e is not None])).long().to(device)\n",
    "        rewards = torch.from_numpy(np.vstack([e.reward for e in experiences if e is not None])).float().to(device)\n",
    "        next_states = torch.from_numpy(np.vstack([e.next_state for e in experiences if e is not None])).float().to(device)\n",
    "        dones = torch.from_numpy(np.vstack([e.done for e in experiences if e is not None]).astype(np.uint8)).float().to(device)\n",
    "  \n",
    "        return (states, actions, rewards, next_states, dones)\n",
    "\n",
    "    def __len__(self):\n",
    "        \"\"\"Return the current size of internal memory.\"\"\"\n",
    "        return len(self.memory)"
   ]
  },
  {
   "cell_type": "code",
   "execution_count": 12,
   "metadata": {},
   "outputs": [],
   "source": [
    "class Agent():\n",
    "    \"\"\"Interacts with and learns from the environment.\"\"\"\n",
    "\n",
    "    def __init__(self, state_size, action_size, seed):\n",
    "        \"\"\"Initialize an Agent object.\n",
    "        \n",
    "        Params\n",
    "        ======\n",
    "            state_size (int): dimension of each state\n",
    "            action_size (int): dimension of each action\n",
    "            seed (int): random seed\n",
    "        \"\"\"\n",
    "        self.state_size = state_size\n",
    "        self.action_size = action_size\n",
    "        self.seed = random.seed(seed)\n",
    "\n",
    "        # Q-Network\n",
    "        self.qnetwork_local = QNetwork(state_size, action_size, seed).to(device)\n",
    "        self.qnetwork_target = QNetwork(state_size, action_size, seed).to(device)\n",
    "        self.optimizer = optim.Adam(self.qnetwork_local.parameters(), lr=LR)\n",
    "\n",
    "        # Replay memory\n",
    "        self.memory = ReplayBuffer(action_size, BUFFER_SIZE, BATCH_SIZE, seed)\n",
    "        # Initialize time step (for updating every UPDATE_EVERY steps)\n",
    "        self.t_step = 0\n",
    "    \n",
    "    def step(self, state, action, reward, next_state, done):\n",
    "        # Save experience in replay memory\n",
    "        self.memory.add(state, action, reward, next_state, done)\n",
    "        \n",
    "        # Learn every UPDATE_EVERY time steps.\n",
    "        self.t_step = (self.t_step + 1) % UPDATE_EVERY\n",
    "        if self.t_step == 0:\n",
    "            # If enough samples are available in memory, get random subset and learn\n",
    "            if len(self.memory) > BATCH_SIZE:\n",
    "                experiences = self.memory.sample()\n",
    "                self.learn(experiences, GAMMA)\n",
    "\n",
    "    def act(self, state, eps=0.):\n",
    "        \"\"\"Returns actions for given state as per current policy.\n",
    "        \n",
    "        Params\n",
    "        ======\n",
    "            state (array_like): current state\n",
    "            eps (float): epsilon, for epsilon-greedy action selection\n",
    "        \"\"\"\n",
    "        state = torch.from_numpy(state).float().unsqueeze(0).to(device)\n",
    "        self.qnetwork_local.eval()\n",
    "        with torch.no_grad():\n",
    "            action_values = self.qnetwork_local(state)\n",
    "        self.qnetwork_local.train()\n",
    "\n",
    "        # Epsilon-greedy action selection\n",
    "        if random.random() > eps:\n",
    "            return np.argmax(action_values.cpu().data.numpy())\n",
    "        else:\n",
    "            return random.choice(np.arange(self.action_size))\n",
    "\n",
    "    def learn(self, experiences, gamma):\n",
    "        \"\"\"Update value parameters using given batch of experience tuples.\n",
    "\n",
    "        Params\n",
    "        ======\n",
    "            experiences (Tuple[torch.Variable]): tuple of (s, a, r, s', done) tuples \n",
    "            gamma (float): discount factor\n",
    "        \"\"\"\n",
    "        states, actions, rewards, next_states, dones = experiences\n",
    "\n",
    "        # Get max predicted Q values (for next states) from target model\n",
    "        Q_targets_next = self.qnetwork_target(next_states).detach().max(1)[0].unsqueeze(1)\n",
    "        # Compute Q targets for current states \n",
    "        Q_targets = rewards + (gamma * Q_targets_next * (1 - dones))\n",
    "        # Get expected Q values from local model\n",
    "        Q_expected = self.qnetwork_local(states).gather(1, actions)\n",
    "\n",
    "        # Compute loss\n",
    "        loss = F.mse_loss(Q_expected, Q_targets)\n",
    "        # Minimize the loss\n",
    "        self.optimizer.zero_grad()\n",
    "        loss.backward()\n",
    "        self.optimizer.step()\n",
    "\n",
    "        # ------------------- update target network ------------------- #\n",
    "        self.soft_update(self.qnetwork_local, self.qnetwork_target, TAU)                     \n",
    "\n",
    "    def soft_update(self, local_model, target_model, tau):\n",
    "        \"\"\"Soft update model parameters.\n",
    "        θ_target = τ*θ_local + (1 - τ)*θ_target\n",
    "\n",
    "        Params\n",
    "        ======\n",
    "            local_model (PyTorch model): weights will be copied from\n",
    "            target_model (PyTorch model): weights will be copied to\n",
    "            tau (float): interpolation parameter \n",
    "        \"\"\"\n",
    "        for target_param, local_param in zip(target_model.parameters(), local_model.parameters()):\n",
    "            target_param.data.copy_(tau*local_param.data + (1.0-tau)*target_param.data)"
   ]
  },
  {
   "cell_type": "code",
   "execution_count": 13,
   "metadata": {},
   "outputs": [],
   "source": [
    "agent = Agent(state_size=state_size, action_size=action_size, seed=0)"
   ]
  },
  {
   "cell_type": "code",
   "execution_count": 14,
   "metadata": {},
   "outputs": [
    {
     "name": "stdout",
     "output_type": "stream",
     "text": [
      "Episode 100\tAverage Score: 0.30\n",
      "Episode 200\tAverage Score: 3.79\n",
      "Episode 300\tAverage Score: 7.07\n",
      "Episode 400\tAverage Score: 10.79\n",
      "Episode 500\tAverage Score: 13.02\n",
      "Episode 600\tAverage Score: 15.14\n",
      "Episode 700\tAverage Score: 14.91\n",
      "Episode 800\tAverage Score: 15.39\n",
      "Episode 900\tAverage Score: 15.82\n",
      "\n",
      "Environment solved in 821 episodes!\tAverage Score: 16.11\n"
     ]
    }
   ],
   "source": [
    "def dqn(n_episodes=2000, max_t=1000, eps_start=1.0, eps_end=0.01, eps_decay=0.995):\n",
    "    \"\"\"Deep Q-Learning.\n",
    "    \n",
    "    Params\n",
    "    ======\n",
    "        n_episodes (int): maximum number of training episodes\n",
    "        max_t (int): maximum number of timesteps per episode\n",
    "        eps_start (float): starting value of epsilon, for epsilon-greedy action selection\n",
    "        eps_end (float): minimum value of epsilon\n",
    "        eps_decay (float): multiplicative factor (per episode) for decreasing epsilon\n",
    "    \"\"\"\n",
    "    scores = []                        # list containing scores from each episode\n",
    "    scores_window = deque(maxlen=100)  # last 100 scores\n",
    "    eps = eps_start                    # initialize epsilon\n",
    "    for i_episode in range(1, n_episodes+1):\n",
    "        #state = env.reset()\n",
    "        env_info = env.reset(train_mode=True)[brain_name] # reset the environment\n",
    "        state = env_info.vector_observations[0]            # get the current state\n",
    "        \n",
    "        score = 0\n",
    "        \n",
    "        for t in range(max_t):\n",
    "            action = agent.act(state, eps)\n",
    "            \n",
    "            env_info = env.step(action)[brain_name]        # send the action to the environment\n",
    "            next_state = env_info.vector_observations[0]   # get the next state\n",
    "            reward = env_info.rewards[0]                   # get the reward\n",
    "            done = env_info.local_done[0]                  # see if episode has finished\n",
    "            \n",
    "            agent.step(state, action, reward, next_state, done)\n",
    "            state = next_state\n",
    "            score += reward\n",
    "            if done:\n",
    "                break \n",
    "\n",
    "        scores_window.append(score)       # save most recent score\n",
    "        scores.append(score)              # save most recent score\n",
    "        eps = max(eps_end, eps_decay*eps) # decrease epsilon\n",
    "        \n",
    "        if i_episode % 100 == 0:\n",
    "            print('\\rEpisode {}\\tAverage Score: {:.2f}'.format(i_episode, np.mean(scores_window)))\n",
    "        if np.mean(scores_window)>=16.0:\n",
    "            print('\\nEnvironment solved in {:d} episodes!\\tAverage Score: {:.2f}'.format(i_episode-100, np.mean(scores_window)))\n",
    "            torch.save(agent.qnetwork_local.state_dict(), 'checkpoint.pth')\n",
    "            break\n",
    "    return scores\n",
    "\n",
    "scores = dqn()\n",
    "\n",
    "\n",
    "#agent.qnetwork_local.load_state_dict(torch.load('checkpoint.pth'))"
   ]
  },
  {
   "cell_type": "code",
   "execution_count": 15,
   "metadata": {},
   "outputs": [
    {
     "data": {
      "image/png": "[encoded data removed]",
      "text/plain": [
       "<matplotlib.figure.Figure at 0x7f560b40aeb8>"
      ]
     },
     "metadata": {
      "needs_background": "light"
     },
     "output_type": "display_data"
    }
   ],
   "source": [
    "# plot the scores\n",
    "fig = plt.figure()\n",
    "ax = fig.add_subplot(111)\n",
    "plt.plot(np.arange(len(scores)), scores)\n",
    "plt.ylabel('Score')\n",
    "plt.xlabel('Episode #')\n",
    "plt.show()"
   ]
  },
  {
   "cell_type": "code",
   "execution_count": 16,
   "metadata": {},
   "outputs": [
    {
     "name": "stdout",
     "output_type": "stream",
     "text": [
      "Score: 15.0\n"
     ]
    }
   ],
   "source": [
    "env_info = env.reset(train_mode=True)[brain_name] # reset the environment\n",
    "state = env_info.vector_observations[0]            # get the current state\n",
    "score = 0                                          # initialize the score\n",
    "while True:\n",
    "    #action = np.random.randint(action_size)        # select an action\n",
    "    action = agent.act(state)                  # select an action\n",
    "    env_info = env.step(action)[brain_name]        # send the action to the environment\n",
    "    next_state = env_info.vector_observations[0]   # get the next state\n",
    "    reward = env_info.rewards[0]                   # get the reward\n",
    "    done = env_info.local_done[0]                  # see if episode has finished\n",
    "    score += reward                                # update the score\n",
    "    state = next_state                             # roll over the state to next time step\n",
    "    if done:                                       # exit loop if episode finished\n",
    "        break\n",
    "    \n",
    "print(\"Score: {}\".format(score))"
   ]
  },
  {
   "cell_type": "code",
   "execution_count": 22,
   "metadata": {},
   "outputs": [],
   "source": [
    "#save model weight\n",
    "torch.save(agent.qnetwork_local.state_dict(),'model.pth')"
   ]
  },
  {
   "cell_type": "code",
   "execution_count": 17,
   "metadata": {},
   "outputs": [
    {
     "name": "stdout",
     "output_type": "stream",
     "text": [
      "OrderedDict([('fc1.weight', tensor([[-1.0245e-01,  9.0063e-03, -1.9052e-01,  ..., -2.8144e-02,\n",
      "         -5.6943e-02, -5.9848e-03],\n",
      "        [ 1.2959e-01,  2.2108e-01, -4.8796e-02,  ..., -1.1046e-01,\n",
      "          6.8787e-02,  3.7634e-02],\n",
      "        [ 6.6845e-02,  1.7236e-01,  3.4386e-02,  ..., -2.1106e-01,\n",
      "         -2.5309e-01, -6.6552e-02],\n",
      "        ...,\n",
      "        [ 4.2899e-02,  8.7614e-02,  8.7021e-02,  ...,  1.4176e-01,\n",
      "         -9.0148e-03,  1.5390e-03],\n",
      "        [-1.5071e-01, -1.6737e-02, -9.9000e-03,  ..., -3.4237e-01,\n",
      "         -1.5824e-01, -3.8230e-02],\n",
      "        [-4.2095e-02, -4.8843e-01,  4.1845e-02,  ...,  4.9399e-02,\n",
      "         -2.8405e-02, -5.2707e-02]], device='cuda:0')), ('fc1.bias', tensor([ 0.0920, -0.0282, -0.1990,  0.0444,  0.2565, -0.0254, -0.2069,\n",
      "         0.0105,  0.0973, -0.2148,  0.3044,  0.2506,  0.0609,  0.1595,\n",
      "        -0.0720, -0.1674, -0.0267, -0.0390, -0.0112, -0.2420, -0.0032,\n",
      "         0.0922,  0.0526, -0.1007, -0.0589,  0.1142,  0.0744, -0.2503,\n",
      "         0.1493,  0.1157, -0.0549, -0.0861,  0.2642, -0.0218, -0.0984,\n",
      "         0.0961,  0.0132,  0.0250, -0.1139, -0.2001, -0.1057,  0.0587,\n",
      "        -0.0288,  0.1145, -0.0537, -0.0535,  0.0982, -0.0242, -0.1471,\n",
      "        -0.0979, -0.1804, -0.0138,  0.0894, -0.0555, -0.1997, -0.0180,\n",
      "         0.1305, -0.1405, -0.1824, -0.1820, -0.0445,  0.0356, -0.0072,\n",
      "         0.0226], device='cuda:0')), ('fc2.weight', tensor([[ 0.0316,  0.0497,  0.0242,  ...,  0.5882,  0.1210,  0.2496],\n",
      "        [-0.0663,  0.1255, -0.2569,  ...,  0.0059, -0.2011, -0.1763],\n",
      "        [-0.0200, -0.1314,  0.0403,  ...,  0.3366, -0.0246, -0.1796],\n",
      "        ...,\n",
      "        [ 0.0051,  0.0043, -0.1004,  ...,  0.0524,  0.0258,  0.0761],\n",
      "        [-0.1507, -0.1041, -0.6102,  ...,  0.3159, -0.2024, -0.0448],\n",
      "        [-0.3464, -0.3371,  0.1851,  ..., -0.1240,  0.1484,  0.4227]], device='cuda:0')), ('fc2.bias', tensor([ 0.0167,  0.3042,  0.4013, -0.0538,  0.1697, -0.2588, -0.1187,\n",
      "        -0.0408,  0.0599,  0.5651, -0.0345,  0.2785,  0.2086, -0.1520,\n",
      "        -0.0915,  0.2336,  0.0222,  0.0592, -0.0004,  0.2111,  0.1200,\n",
      "         0.5608, -0.1385,  0.0942, -0.1632, -0.2290,  0.0025,  0.0207,\n",
      "        -0.0338,  0.4769, -0.0515,  0.1240, -0.1189, -0.0159,  0.0649,\n",
      "        -0.0360, -0.0729, -0.2146,  0.5396, -0.0442, -0.1261,  0.6433,\n",
      "         0.0968,  0.0595,  0.3720, -0.1779,  0.0830, -0.1852, -0.0866,\n",
      "        -0.1932, -0.2419,  0.2122, -0.1102, -0.0541,  0.2547, -0.0519,\n",
      "        -0.2803, -0.1597, -0.0031, -0.0612,  0.0305,  0.4050,  0.1381,\n",
      "        -0.1076], device='cuda:0')), ('fc3.weight', tensor([[ 0.5002,  0.2099,  0.3344, -0.4774,  0.0766, -0.0910, -0.1732,\n",
      "         -0.0182,  0.3106,  0.1748, -0.0087,  0.2184,  0.1314, -0.2438,\n",
      "         -0.0289,  0.1220, -0.6086,  0.3433, -0.3332,  0.2894,  0.4468,\n",
      "          0.1581, -0.1924,  0.1199, -0.2649, -0.2144, -0.3233,  0.4124,\n",
      "          0.0772,  0.1550, -0.1506,  0.1265,  0.2002,  0.0735,  0.0798,\n",
      "          0.0967,  0.2773,  0.1231,  0.1908, -0.0236, -0.1235,  0.1634,\n",
      "          0.3458,  0.2542,  0.1348, -0.2982,  0.1424, -0.1869, -0.3312,\n",
      "          0.1401, -0.0616,  0.0620, -0.2853,  0.3920,  0.1781,  0.2379,\n",
      "         -0.2728, -0.1131,  0.3663, -0.0462, -0.1684,  0.1523, -0.0271,\n",
      "         -0.0381],\n",
      "        [ 0.4665,  0.1601,  0.2180,  0.1377, -0.0151, -0.1595, -0.2033,\n",
      "         -0.3028,  0.3098,  0.1903,  0.0101,  0.1757,  0.0865, -0.1643,\n",
      "          0.0092,  0.1108,  0.2188,  0.2171, -0.1791,  0.1489,  0.4834,\n",
      "          0.2327, -0.2075,  0.2156,  0.0180, -0.0709, -0.0666,  0.4670,\n",
      "         -0.3974,  0.1771, -0.0828,  0.1073, -0.0285, -0.5913,  0.1660,\n",
      "          0.2053,  0.4133, -0.0096,  0.1750,  0.2299,  0.3986,  0.2218,\n",
      "         -0.1776,  0.3588,  0.0296, -0.3817,  0.1969, -0.1966, -0.1270,\n",
      "          0.2236, -0.1634,  0.1838, -0.0308,  0.3617,  0.0995,  0.0099,\n",
      "         -0.2779, -0.2674,  0.3011, -0.4538, -0.0374,  0.0731, -0.3596,\n",
      "          0.1927],\n",
      "        [ 0.3020,  0.1474,  0.2096, -0.2617,  0.2212, -0.1409, -0.1091,\n",
      "         -0.1997,  0.2406,  0.1333, -0.1100,  0.2688,  0.1412, -0.5688,\n",
      "         -0.0606,  0.2152, -0.1740, -0.6739, -0.2129,  0.0229,  0.3329,\n",
      "          0.2907, -0.5646,  0.1731,  0.0412, -0.1917,  0.1194,  0.4278,\n",
      "          0.2469,  0.2236, -0.0953, -0.0192, -0.6010, -0.1452,  0.3878,\n",
      "          0.5641,  0.1094,  0.0565,  0.1609,  0.0196,  0.0372,  0.2335,\n",
      "          0.3736,  0.0638,  0.0760, -0.3599,  0.1680,  0.1922,  0.1586,\n",
      "          0.1115, -0.2074,  0.2804,  0.2595,  0.8118,  0.1141,  0.3093,\n",
      "         -0.0926, -0.1119, -0.1769, -0.0854, -0.4905,  0.1916, -0.6095,\n",
      "          0.4256],\n",
      "        [ 0.5865,  0.2545,  0.2142, -0.2488,  0.2136, -0.1280, -0.4202,\n",
      "         -0.1214,  0.4266,  0.2315,  0.2374, -0.0481,  0.1204, -0.1386,\n",
      "          0.0593,  0.2923,  0.3243,  0.4334, -0.1434,  0.1413,  0.3417,\n",
      "          0.2043, -0.3257,  0.2985, -0.3258, -0.4187, -0.1530,  0.1028,\n",
      "         -0.2991,  0.0655,  0.0423,  0.0506,  0.0085,  0.1096,  0.1930,\n",
      "         -0.0481,  0.4925, -0.2920,  0.1728,  0.7050, -0.0478,  0.1994,\n",
      "          0.3664,  0.1011,  0.1807, -0.0772,  0.1004, -0.4252, -0.0319,\n",
      "         -0.5476, -0.1451,  0.1165, -0.3536,  0.4644,  0.1662,  0.1912,\n",
      "         -0.3316, -0.4092, -0.3658, -0.5215, -0.3621,  0.2119,  0.0993,\n",
      "          0.1435]], device='cuda:0')), ('fc3.bias', tensor([ 0.4092,  0.3767,  0.2888,  0.2641], device='cuda:0'))])\n"
     ]
    }
   ],
   "source": [
    "#print weight\n",
    "print(agent.qnetwork_local.state_dict())  "
   ]
  },
  {
   "cell_type": "code",
   "execution_count": null,
   "metadata": {},
   "outputs": [],
   "source": []
  }
 ],
 "metadata": {
  "kernelspec": {
   "display_name": "Python 3",
   "language": "python",
   "name": "python3"
  },
  "language_info": {
   "codemirror_mode": {
    "name": "ipython",
    "version": 3
   },
   "file_extension": ".py",
   "mimetype": "text/x-python",
   "name": "python",
   "nbconvert_exporter": "python",
   "pygments_lexer": "ipython3",
   "version": "3.6.3"
  }
 },
 "nbformat": 4,
 "nbformat_minor": 2
}
